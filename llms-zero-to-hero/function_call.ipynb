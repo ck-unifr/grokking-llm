{
 "cells": [
  {
   "cell_type": "code",
   "execution_count": null,
   "metadata": {},
   "outputs": [],
   "source": []
  },
  {
   "cell_type": "code",
   "execution_count": null,
   "metadata": {},
   "outputs": [],
   "source": [
    "# https://www.bilibili.com/video/BV1cqdPY8EzT/?spm_id_from=333.1007.tianma.2-2-5.click&vd_source=169a4f5150fe4c5a2d521fa2b5efa167"
   ]
  },
  {
   "cell_type": "code",
   "execution_count": 43,
   "metadata": {},
   "outputs": [],
   "source": [
    "from openai import OpenAI\n",
    "from dotenv import load_dotenv\n",
    "from dotenv import dotenv_values\n",
    "import json\n",
    "\n",
    "key_value_env = dotenv_values(\".env\")\n",
    "# print(key_value_env)"
   ]
  },
  {
   "cell_type": "code",
   "execution_count": 44,
   "metadata": {},
   "outputs": [
    {
     "name": "stdout",
     "output_type": "stream",
     "text": [
      "https://cephalon.cloud/user-center/v1/model/\n"
     ]
    }
   ],
   "source": [
    "client = OpenAI(\n",
    "    base_url=key_value_env[\"BASE_URL\"],\n",
    "    api_key=key_value_env[\"API_KEY\"],\n",
    "    # model=MODEL_NAME,\n",
    ")\n",
    "\n",
    "print(client.base_url)\n",
    "# print(client.api_key)"
   ]
  },
  {
   "cell_type": "code",
   "execution_count": 45,
   "metadata": {},
   "outputs": [],
   "source": [
    "tools = [{\n",
    "        \"type\": \"function\",\n",
    "        \"function\": {\n",
    "            \"name\": \"get_weather\",\n",
    "            \"description\": \"获取当前城市天气信息\",\n",
    "            \"parameters\": {\n",
    "                \"type\": \"object\",\n",
    "                \"properties\": {\n",
    "                    \"location\": {\n",
    "                        \"type\": \"string\",\n",
    "                        \"description\": \"城市名称 e.g. 上海\",\n",
    "                    },\n",
    "                },\n",
    "                \"required\": [\"location\"],\n",
    "                \"addtionalProperties\": False,\n",
    "            }\n",
    "        }\n",
    "    },\n",
    "]\n",
    "\n",
    "# tools = [{\n",
    "#     \"type\": \"function\",\n",
    "#     \"name\": \"get_weather\",\n",
    "#     \"description\": \"Get current temperature for a given location.\",\n",
    "#     \"parameters\": {\n",
    "#         \"type\": \"object\",\n",
    "#         \"properties\": {\n",
    "#             \"location\": {\n",
    "#                 \"type\": \"string\",\n",
    "#                 \"description\": \"City and country e.g. Bogotá, Colombia\"\n",
    "#             }\n",
    "#         },\n",
    "#         \"required\": [\n",
    "#             \"location\"\n",
    "#         ],\n",
    "#         \"additionalProperties\": False\n",
    "#     }\n",
    "# }]\n"
   ]
  },
  {
   "cell_type": "code",
   "execution_count": 46,
   "metadata": {},
   "outputs": [],
   "source": [
    "# messages = [{\"role\": \"user\", \"content\": \"What is the weather like in Paris, France?\"}]\n",
    "messages = [{\"role\": \"user\", \"content\": \"上海的天气怎么样？\"}]\n",
    "\n"
   ]
  },
  {
   "cell_type": "code",
   "execution_count": 50,
   "metadata": {},
   "outputs": [
    {
     "name": "stdout",
     "output_type": "stream",
     "text": [
      "ChatCompletion(id=None, choices=None, created=None, model=None, object=None, service_tier=None, system_fingerprint=None, usage=None, code=30000, msg='参数非法或缺失', data={})\n"
     ]
    }
   ],
   "source": [
    "response = client.chat.completions.create(\n",
    "    model=\"deepseek-chat\",\n",
    "    messages=messages,\n",
    "    tools=tools,\n",
    "    tool_choice=\"auto\",\n",
    ")\n",
    "\n",
    "# response = client.responses.create(\n",
    "#     model=\"deepseek-chat\",\n",
    "#     input=[{\"role\": \"user\", \"content\": \"What is the weather like in Paris today?\"}],\n",
    "#     tools=tools\n",
    "# )\n",
    "\n",
    "\n",
    "print(response)\n",
    "# print(response.choices[0].message)\n",
    "# print(response.choices[0].message[\"function_call\"])\n",
    "# print(response.choices[0].message[\"function_call\"][\"name\"])\n"
   ]
  },
  {
   "cell_type": "code",
   "execution_count": null,
   "metadata": {},
   "outputs": [],
   "source": []
  },
  {
   "cell_type": "code",
   "execution_count": null,
   "metadata": {},
   "outputs": [],
   "source": []
  },
  {
   "cell_type": "code",
   "execution_count": null,
   "metadata": {},
   "outputs": [],
   "source": []
  },
  {
   "cell_type": "code",
   "execution_count": null,
   "metadata": {},
   "outputs": [],
   "source": []
  },
  {
   "cell_type": "code",
   "execution_count": null,
   "metadata": {},
   "outputs": [],
   "source": []
  },
  {
   "cell_type": "code",
   "execution_count": null,
   "metadata": {},
   "outputs": [],
   "source": []
  },
  {
   "cell_type": "code",
   "execution_count": null,
   "metadata": {},
   "outputs": [],
   "source": []
  },
  {
   "cell_type": "code",
   "execution_count": null,
   "metadata": {},
   "outputs": [],
   "source": []
  },
  {
   "cell_type": "code",
   "execution_count": null,
   "metadata": {},
   "outputs": [],
   "source": []
  },
  {
   "cell_type": "code",
   "execution_count": null,
   "metadata": {},
   "outputs": [],
   "source": []
  }
 ],
 "metadata": {
  "kernelspec": {
   "display_name": "venv12",
   "language": "python",
   "name": "python3"
  },
  "language_info": {
   "codemirror_mode": {
    "name": "ipython",
    "version": 3
   },
   "file_extension": ".py",
   "mimetype": "text/x-python",
   "name": "python",
   "nbconvert_exporter": "python",
   "pygments_lexer": "ipython3",
   "version": "3.12.9"
  }
 },
 "nbformat": 4,
 "nbformat_minor": 2
}
