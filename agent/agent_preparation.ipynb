{
 "cells": [
  {
   "cell_type": "code",
   "execution_count": null,
   "metadata": {},
   "outputs": [],
   "source": []
  },
  {
   "cell_type": "code",
   "execution_count": 19,
   "metadata": {},
   "outputs": [
    {
     "name": "stdout",
     "output_type": "stream",
     "text": [
      "Package                  Version\n",
      "------------------------ -----------\n",
      "aiohappyeyeballs         2.6.1\n",
      "aiohttp                  3.11.16\n",
      "aiosignal                1.3.2\n",
      "annotated-types          0.7.0\n",
      "anyio                    4.9.0\n",
      "appnope                  0.1.4\n",
      "asttokens                3.0.0\n",
      "attrs                    25.3.0\n",
      "beautifulsoup4           4.13.3\n",
      "bs4                      0.0.2\n",
      "certifi                  2025.1.31\n",
      "charset-normalizer       3.4.1\n",
      "click                    8.1.8\n",
      "colorama                 0.4.6\n",
      "comm                     0.2.2\n",
      "dataclasses-json         0.6.7\n",
      "debugpy                  1.8.14\n",
      "decorator                5.2.1\n",
      "distro                   1.9.0\n",
      "duckduckgo_search        8.0.0\n",
      "executing                2.2.0\n",
      "frozenlist               1.5.0\n",
      "h11                      0.14.0\n",
      "httpcore                 1.0.8\n",
      "httpx                    0.28.1\n",
      "httpx-sse                0.4.0\n",
      "icecream                 2.1.4\n",
      "idna                     3.10\n",
      "ipykernel                6.29.5\n",
      "ipython                  9.1.0\n",
      "ipython_pygments_lexers  1.1.1\n",
      "jedi                     0.19.2\n",
      "jiter                    0.9.0\n",
      "jsonpatch                1.33\n",
      "jsonpointer              3.0.0\n",
      "jupyter_client           8.6.3\n",
      "jupyter_core             5.7.2\n",
      "langchain                0.3.23\n",
      "langchain-community      0.3.21\n",
      "langchain-core           0.3.51\n",
      "langchain-mcp-adapters   0.1.0\n",
      "langchain-openai         0.3.12\n",
      "langchain-text-splitters 0.3.8\n",
      "langgraph                0.3.29\n",
      "langgraph-checkpoint     2.0.24\n",
      "langgraph-prebuilt       0.1.8\n",
      "langgraph-sdk            0.1.61\n",
      "langsmith                0.3.30\n",
      "lxml                     5.3.2\n",
      "marshmallow              3.26.1\n",
      "matplotlib-inline        0.1.7\n",
      "mcp                      1.9.0\n",
      "multidict                6.4.3\n",
      "mypy-extensions          1.0.0\n",
      "nest-asyncio             1.6.0\n",
      "numpy                    2.2.4\n",
      "openai                   1.72.0\n",
      "orjson                   3.10.16\n",
      "ormsgpack                1.9.1\n",
      "packaging                24.2\n",
      "pandas                   2.2.3\n",
      "pandasql                 0.7.3\n",
      "parso                    0.8.4\n",
      "pexpect                  4.9.0\n",
      "pip                      24.3.1\n",
      "platformdirs             4.3.7\n",
      "primp                    0.14.0\n",
      "prompt_toolkit           3.0.50\n",
      "propcache                0.3.1\n",
      "psutil                   7.0.0\n",
      "ptyprocess               0.7.0\n",
      "pure_eval                0.2.3\n",
      "pydantic                 2.11.3\n",
      "pydantic_core            2.33.1\n",
      "pydantic-settings        2.8.1\n",
      "Pygments                 2.19.1\n",
      "python-dateutil          2.9.0.post0\n",
      "python-dotenv            1.1.0\n",
      "python-multipart         0.0.20\n",
      "pytz                     2025.2\n",
      "PyYAML                   6.0.2\n",
      "pyzmq                    26.4.0\n",
      "regex                    2024.11.6\n",
      "requests                 2.32.3\n",
      "requests-toolbelt        1.0.0\n",
      "six                      1.17.0\n",
      "sniffio                  1.3.1\n",
      "soupsieve                2.6\n",
      "SQLAlchemy               2.0.40\n",
      "sse-starlette            2.3.5\n",
      "stack-data               0.6.3\n",
      "starlette                0.46.2\n",
      "tenacity                 9.1.2\n",
      "tiktoken                 0.9.0\n",
      "tornado                  6.4.2\n",
      "tqdm                     4.67.1\n",
      "traitlets                5.14.3\n",
      "typing_extensions        4.13.2\n",
      "typing-inspect           0.9.0\n",
      "typing-inspection        0.4.0\n",
      "tzdata                   2025.2\n",
      "urllib3                  2.4.0\n",
      "uvicorn                  0.34.2\n",
      "wcwidth                  0.2.13\n",
      "xxhash                   3.5.0\n",
      "yarl                     1.19.0\n",
      "zstandard                0.23.0\n"
     ]
    }
   ],
   "source": [
    "!pip list"
   ]
  },
  {
   "cell_type": "code",
   "execution_count": null,
   "metadata": {},
   "outputs": [],
   "source": []
  },
  {
   "cell_type": "markdown",
   "metadata": {},
   "source": [
    "# model"
   ]
  },
  {
   "cell_type": "code",
   "execution_count": null,
   "metadata": {},
   "outputs": [
    {
     "data": {
      "text/plain": [
       "True"
      ]
     },
     "execution_count": 37,
     "metadata": {},
     "output_type": "execute_result"
    }
   ],
   "source": [
    "# import environment variables\n",
    "from dotenv import load_dotenv\n",
    "import os\n",
    "\n",
    "load_dotenv(override=True)"
   ]
  },
  {
   "cell_type": "code",
   "execution_count": 38,
   "metadata": {},
   "outputs": [],
   "source": [
    "ZHIPU_API_KEY = os.getenv(\"ZHIPU_API_KEY\")\n",
    "# print(ZHIPU_API_KEY)"
   ]
  },
  {
   "cell_type": "code",
   "execution_count": null,
   "metadata": {},
   "outputs": [],
   "source": [
    "from langchain_openai import ChatOpenAI\n",
    "\n",
    "model = ChatOpenAI(\n",
    "    model=\"glm-4-flash\",\n",
    "    openai_api_base=\"https://open.bigmodel.cn/api/paas/v4/\",\n",
    "    openai_api_key=ZHIPU_API_KEY,\n",
    "    temperature=0.1,\n",
    ")"
   ]
  },
  {
   "cell_type": "code",
   "execution_count": 40,
   "metadata": {},
   "outputs": [
    {
     "data": {
      "text/plain": [
       "AIMessage(content='你好！很高兴见到你，有什么可以帮助你的吗？', additional_kwargs={'refusal': None}, response_metadata={'token_usage': {'completion_tokens': 13, 'prompt_tokens': 9, 'total_tokens': 22, 'completion_tokens_details': None, 'prompt_tokens_details': None}, 'model_name': 'glm-4-flash', 'system_fingerprint': None, 'id': '202505171145307d88fefed0b64537', 'finish_reason': 'stop', 'logprobs': None}, id='run-dbd518c9-0e3a-4129-bdbc-b543767ce5fb-0', usage_metadata={'input_tokens': 9, 'output_tokens': 13, 'total_tokens': 22, 'input_token_details': {}, 'output_token_details': {}})"
      ]
     },
     "execution_count": 40,
     "metadata": {},
     "output_type": "execute_result"
    }
   ],
   "source": [
    "model.invoke(\"你好，世界！\")"
   ]
  },
  {
   "cell_type": "code",
   "execution_count": null,
   "metadata": {},
   "outputs": [],
   "source": []
  },
  {
   "cell_type": "code",
   "execution_count": null,
   "metadata": {},
   "outputs": [],
   "source": []
  },
  {
   "cell_type": "markdown",
   "metadata": {},
   "source": [
    "# tools"
   ]
  },
  {
   "cell_type": "markdown",
   "metadata": {},
   "source": [
    "## search\n"
   ]
  },
  {
   "cell_type": "code",
   "execution_count": null,
   "metadata": {},
   "outputs": [
    {
     "name": "stdout",
     "output_type": "stream",
     "text": [
      "              name  age sex\n",
      "0      Henry Myers   60   F\n",
      "1      Kelsey Lutz   54   M\n",
      "2   Jonathan Young   76   F\n",
      "3  Kimberly Macias   69   M\n"
     ]
    }
   ],
   "source": [
    "from langchain_community.tools import DuckDuckGoSearchRun\n",
    "import pandas as pd\n",
    "from pandasql import sqldf\n",
    "\n",
    "\n",
    "def simulate_database_operation(sql):\n",
    "    my_table = pd.DataFrame(\n",
    "        {\n",
    "            \"name\": [\n",
    "                \"Henry Myers\",\n",
    "                \"Martha Hawkins\",\n",
    "                \"Kelsey Lutz\",\n",
    "                \"Jonathan Fowler\",\n",
    "                \"Jonathan Young\",\n",
    "                \"Autumn Johnson\",\n",
    "                \"Kimberly Macias\",\n",
    "                \"Jared Mccormick\",\n",
    "                \"Casey Hoover\",\n",
    "                \"Erica Morse\",\n",
    "            ],\n",
    "            \"age\": [60, 44, 54, 46, 76, 22, 69, 33, 23, 35],\n",
    "            \"sex\": [\"F\", \"M\", \"M\", \"F\", \"F\", \"M\", \"M\", \"F\", \"F\", \"M\"],\n",
    "        }\n",
    "    )\n",
    "    result = sqldf(sql)\n",
    "    return result\n",
    "\n",
    "\n",
    "print(simulate_database_operation(\"SELECT * FROM my_table WHERE age > 50\"))"
   ]
  },
  {
   "cell_type": "code",
   "execution_count": 42,
   "metadata": {},
   "outputs": [],
   "source": [
    "# from langchain_community.tools import DuckDuckGoSearchResults\n",
    "\n",
    "# DuckDuckGoSearchResults().invoke(\"Obama\")"
   ]
  },
  {
   "cell_type": "code",
   "execution_count": 43,
   "metadata": {},
   "outputs": [],
   "source": [
    "from langchain.tools import tool\n",
    "\n",
    "\n",
    "@tool\n",
    "def simulate_database_operation(sql: str):\n",
    "    \"\"\"根据sql语句操作数据库\"\"\"\n",
    "    my_table = pd.DataFrame(\n",
    "        {\n",
    "            \"name\": [\n",
    "                \"Henry Myers\",\n",
    "                \"Martha Hawkins\",\n",
    "                \"Kelsey Lutz\",\n",
    "                \"Jonathan Fowler\",\n",
    "                \"Jonathan Young\",\n",
    "                \"Autumn Johnson\",\n",
    "                \"Kimberly Macias\",\n",
    "                \"Jared Mccormick\",\n",
    "                \"Casey Hoover\",\n",
    "                \"Erica Morse\",\n",
    "            ],\n",
    "            \"age\": [60, 44, 54, 46, 76, 22, 69, 33, 23, 35],\n",
    "            \"sex\": [\"F\", \"M\", \"M\", \"F\", \"F\", \"M\", \"M\", \"F\", \"F\", \"M\"],\n",
    "        }\n",
    "    )\n",
    "    result = sqldf(sql)\n",
    "    return result"
   ]
  },
  {
   "cell_type": "code",
   "execution_count": null,
   "metadata": {},
   "outputs": [],
   "source": []
  },
  {
   "cell_type": "markdown",
   "metadata": {},
   "source": [
    "## bind tools"
   ]
  },
  {
   "cell_type": "code",
   "execution_count": 44,
   "metadata": {},
   "outputs": [],
   "source": [
    "tools = [DuckDuckGoSearchRun(), simulate_database_operation]\n",
    "model_with_tools = model.bind_tools(tools)"
   ]
  },
  {
   "cell_type": "code",
   "execution_count": null,
   "metadata": {},
   "outputs": [
    {
     "name": "stdout",
     "output_type": "stream",
     "text": [
      "{'additional_kwargs': {'refusal': None},\n",
      " 'content': '印度的首都是新德里（New '\n",
      "            'Delhi）。它是印度联邦的首都，也是德里联邦属地的首府。新德里不仅是印度的政治中心，也是重要的文化和商业中心。',\n",
      " 'example': False,\n",
      " 'id': 'run-5c283fb1-2d41-4412-9d6a-8bcb7d0f0a96-0',\n",
      " 'invalid_tool_calls': [],\n",
      " 'name': None,\n",
      " 'response_metadata': {'finish_reason': 'stop',\n",
      "                       'id': '20250517114541b731985f8599439b',\n",
      "                       'logprobs': None,\n",
      "                       'model_name': 'glm-4-flash',\n",
      "                       'system_fingerprint': None,\n",
      "                       'token_usage': {'completion_tokens': 38,\n",
      "                                       'completion_tokens_details': None,\n",
      "                                       'prompt_tokens': 275,\n",
      "                                       'prompt_tokens_details': None,\n",
      "                                       'total_tokens': 313}},\n",
      " 'tool_calls': [],\n",
      " 'type': 'ai',\n",
      " 'usage_metadata': {'input_token_details': {},\n",
      "                    'input_tokens': 275,\n",
      "                    'output_token_details': {},\n",
      "                    'output_tokens': 38,\n",
      "                    'total_tokens': 313}}\n"
     ]
    }
   ],
   "source": [
    "from pprint import pprint as pp\n",
    "\n",
    "response = model_with_tools.invoke(\"印度的首都是哪里？\")\n",
    "pp(dict(response))"
   ]
  },
  {
   "cell_type": "code",
   "execution_count": null,
   "metadata": {},
   "outputs": [
    {
     "name": "stdout",
     "output_type": "stream",
     "text": [
      "{'additional_kwargs': {'refusal': None,\n",
      "                       'tool_calls': [{'function': {'arguments': '{\"query\": '\n",
      "                                                                 '\"北京时间现在几点\"}',\n",
      "                                                    'name': 'duckduckgo_search'},\n",
      "                                       'id': 'call_-8724717192772033319',\n",
      "                                       'index': 0,\n",
      "                                       'type': 'function'}]},\n",
      " 'content': '',\n",
      " 'example': False,\n",
      " 'id': 'run-2f7db50b-7eed-4994-b921-c071c4fad946-0',\n",
      " 'invalid_tool_calls': [],\n",
      " 'name': None,\n",
      " 'response_metadata': {'finish_reason': 'tool_calls',\n",
      "                       'id': '20250517114605c2f46f46a6f84d3a',\n",
      "                       'logprobs': None,\n",
      "                       'model_name': 'glm-4-flash',\n",
      "                       'system_fingerprint': None,\n",
      "                       'token_usage': {'completion_tokens': 14,\n",
      "                                       'completion_tokens_details': None,\n",
      "                                       'prompt_tokens': 277,\n",
      "                                       'prompt_tokens_details': None,\n",
      "                                       'total_tokens': 291}},\n",
      " 'tool_calls': [{'args': {'query': '北京时间现在几点'},\n",
      "                 'id': 'call_-8724717192772033319',\n",
      "                 'name': 'duckduckgo_search',\n",
      "                 'type': 'tool_call'}],\n",
      " 'type': 'ai',\n",
      " 'usage_metadata': {'input_token_details': {},\n",
      "                    'input_tokens': 277,\n",
      "                    'output_token_details': {},\n",
      "                    'output_tokens': 14,\n",
      "                    'total_tokens': 291}}\n"
     ]
    }
   ],
   "source": [
    "fetch_response = model_with_tools.invoke(\"现在是北京时间几点？查询之后告诉我\")\n",
    "pp(dict(fetch_response))"
   ]
  },
  {
   "cell_type": "code",
   "execution_count": null,
   "metadata": {},
   "outputs": [
    {
     "name": "stdout",
     "output_type": "stream",
     "text": [
      "{'additional_kwargs': {'refusal': None,\n",
      "                       'tool_calls': [{'function': {'arguments': '{\"sql\": '\n",
      "                                                                 '\"INSERT INTO '\n",
      "                                                                 'my_table '\n",
      "                                                                 '(name, age, '\n",
      "                                                                 'sex) VALUES '\n",
      "                                                                 \"('张三', 18, \"\n",
      "                                                                 '\\'male\\')\"}',\n",
      "                                                    'name': 'simulate_database_operation'},\n",
      "                                       'id': 'call_-8724732139261252859',\n",
      "                                       'index': 0,\n",
      "                                       'type': 'function'}]},\n",
      " 'content': '',\n",
      " 'example': False,\n",
      " 'id': 'run-55b69fb4-5f4a-4308-9c68-f894de7a3966-0',\n",
      " 'invalid_tool_calls': [],\n",
      " 'name': None,\n",
      " 'response_metadata': {'finish_reason': 'tool_calls',\n",
      "                       'id': '20250517114614666cfe8ea1be40c3',\n",
      "                       'logprobs': None,\n",
      "                       'model_name': 'glm-4-flash',\n",
      "                       'system_fingerprint': None,\n",
      "                       'token_usage': {'completion_tokens': 32,\n",
      "                                       'completion_tokens_details': None,\n",
      "                                       'prompt_tokens': 293,\n",
      "                                       'prompt_tokens_details': None,\n",
      "                                       'total_tokens': 325}},\n",
      " 'tool_calls': [{'args': {'sql': 'INSERT INTO my_table (name, age, sex) VALUES '\n",
      "                                 \"('张三', 18, 'male')\"},\n",
      "                 'id': 'call_-8724732139261252859',\n",
      "                 'name': 'simulate_database_operation',\n",
      "                 'type': 'tool_call'}],\n",
      " 'type': 'ai',\n",
      " 'usage_metadata': {'input_token_details': {},\n",
      "                    'input_tokens': 293,\n",
      "                    'output_token_details': {},\n",
      "                    'output_tokens': 32,\n",
      "                    'total_tokens': 325}}\n"
     ]
    }
   ],
   "source": [
    "db_response = model_with_tools.invoke(\n",
    "    \"帮我往数据库的my_table表中插入一条数据，name是张三，age是18，sex是male\"\n",
    ")\n",
    "pp(dict(db_response))"
   ]
  },
  {
   "cell_type": "code",
   "execution_count": null,
   "metadata": {},
   "outputs": [],
   "source": []
  },
  {
   "cell_type": "markdown",
   "metadata": {},
   "source": [
    "# agent"
   ]
  },
  {
   "cell_type": "markdown",
   "metadata": {},
   "source": [
    "# manual agent"
   ]
  },
  {
   "cell_type": "code",
   "execution_count": null,
   "metadata": {},
   "outputs": [],
   "source": [
    "from icecream import ic\n",
    "\n",
    "\n",
    "def manual_agent(query: str, model: ChatOpenAI, tools: list[tool]):\n",
    "    model_with_tools = model.bind_tools(tools)\n",
    "    model_output = model_with_tools.invoke(query)\n",
    "    tool_response = call_tool(model_output, tools)\n",
    "    final_response = model.invoke(\n",
    "        f\"original query: {query} \\n\\n\\n tool response: {tool_response}\",\n",
    "    )\n",
    "    return final_response\n",
    "\n",
    "\n",
    "def call_tool(model_output, tools):\n",
    "    tools_map = {tool.name.lower(): tool for tool in tools}\n",
    "    tools_response = {}\n",
    "    for tool in model_output.tool_calls:\n",
    "        tool_name = tool[\"name\"]\n",
    "        tool_args = tool[\"args\"]\n",
    "        tool_instance = tools_map[tool_name]\n",
    "        tool_response = tool_instance.invoke(*tool_args.values())\n",
    "        tools_response[tool_name] = tool_response\n",
    "    return tools_response"
   ]
  },
  {
   "cell_type": "code",
   "execution_count": 50,
   "metadata": {},
   "outputs": [
    {
     "data": {
      "text/plain": [
       "'根据您提供的查询结果，数据库`my_table`表中年龄大于60岁的人数是2人。这个结果是通过执行SQL查询`COUNT(*)`得到的，其中`COUNT(*)`是一个聚合函数，用于计算表中的行数。在这个上下文中，它计算了年龄大于60岁的记录数。'"
      ]
     },
     "execution_count": 50,
     "metadata": {},
     "output_type": "execute_result"
    }
   ],
   "source": [
    "manual_agent('帮我查询数据库my_table表中有多少人年龄大于60', model, tools).content\n"
   ]
  },
  {
   "cell_type": "code",
   "execution_count": null,
   "metadata": {},
   "outputs": [],
   "source": []
  },
  {
   "cell_type": "code",
   "execution_count": null,
   "metadata": {},
   "outputs": [],
   "source": []
  },
  {
   "cell_type": "code",
   "execution_count": null,
   "metadata": {},
   "outputs": [],
   "source": []
  },
  {
   "cell_type": "code",
   "execution_count": null,
   "metadata": {},
   "outputs": [],
   "source": []
  },
  {
   "cell_type": "code",
   "execution_count": null,
   "metadata": {},
   "outputs": [],
   "source": []
  },
  {
   "cell_type": "code",
   "execution_count": null,
   "metadata": {},
   "outputs": [],
   "source": []
  },
  {
   "cell_type": "code",
   "execution_count": null,
   "metadata": {},
   "outputs": [],
   "source": []
  },
  {
   "cell_type": "code",
   "execution_count": null,
   "metadata": {},
   "outputs": [],
   "source": []
  },
  {
   "cell_type": "code",
   "execution_count": null,
   "metadata": {},
   "outputs": [],
   "source": []
  },
  {
   "cell_type": "code",
   "execution_count": null,
   "metadata": {},
   "outputs": [],
   "source": []
  },
  {
   "cell_type": "code",
   "execution_count": null,
   "metadata": {},
   "outputs": [],
   "source": []
  },
  {
   "cell_type": "code",
   "execution_count": null,
   "metadata": {},
   "outputs": [],
   "source": []
  }
 ],
 "metadata": {
  "kernelspec": {
   "display_name": "venv12",
   "language": "python",
   "name": "python3"
  },
  "language_info": {
   "codemirror_mode": {
    "name": "ipython",
    "version": 3
   },
   "file_extension": ".py",
   "mimetype": "text/x-python",
   "name": "python",
   "nbconvert_exporter": "python",
   "pygments_lexer": "ipython3",
   "version": "3.12.9"
  }
 },
 "nbformat": 4,
 "nbformat_minor": 2
}
