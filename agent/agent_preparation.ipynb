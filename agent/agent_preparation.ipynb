{
 "cells": [
  {
   "cell_type": "code",
   "execution_count": null,
   "metadata": {},
   "outputs": [],
   "source": []
  },
  {
   "cell_type": "code",
   "execution_count": 1,
   "metadata": {},
   "outputs": [
    {
     "name": "stdout",
     "output_type": "stream",
     "text": [
      "Package                  Version\n",
      "------------------------ -----------\n",
      "aiohappyeyeballs         2.6.1\n",
      "aiohttp                  3.11.16\n",
      "aiosignal                1.3.2\n",
      "annotated-types          0.7.0\n",
      "anyio                    4.9.0\n",
      "appnope                  0.1.4\n",
      "asttokens                3.0.0\n",
      "attrs                    25.3.0\n",
      "beautifulsoup4           4.13.3\n",
      "bs4                      0.0.2\n",
      "certifi                  2025.1.31\n",
      "charset-normalizer       3.4.1\n",
      "click                    8.1.8\n",
      "colorama                 0.4.6\n",
      "comm                     0.2.2\n",
      "dataclasses-json         0.6.7\n",
      "debugpy                  1.8.14\n",
      "decorator                5.2.1\n",
      "distro                   1.9.0\n",
      "duckduckgo_search        8.0.0\n",
      "executing                2.2.0\n",
      "frozenlist               1.5.0\n",
      "h11                      0.14.0\n",
      "httpcore                 1.0.8\n",
      "httpx                    0.28.1\n",
      "httpx-sse                0.4.0\n",
      "icecream                 2.1.4\n",
      "idna                     3.10\n",
      "ipykernel                6.29.5\n",
      "ipython                  9.1.0\n",
      "ipython_pygments_lexers  1.1.1\n",
      "jedi                     0.19.2\n",
      "jiter                    0.9.0\n",
      "jsonpatch                1.33\n",
      "jsonpointer              3.0.0\n",
      "jupyter_client           8.6.3\n",
      "jupyter_core             5.7.2\n",
      "langchain                0.3.23\n",
      "langchain-community      0.3.21\n",
      "langchain-core           0.3.51\n",
      "langchain-mcp-adapters   0.1.0\n",
      "langchain-openai         0.3.12\n",
      "langchain-text-splitters 0.3.8\n",
      "langgraph                0.3.29\n",
      "langgraph-checkpoint     2.0.24\n",
      "langgraph-prebuilt       0.1.8\n",
      "langgraph-sdk            0.1.61\n",
      "langsmith                0.3.30\n",
      "lxml                     5.3.2\n",
      "marshmallow              3.26.1\n",
      "matplotlib-inline        0.1.7\n",
      "mcp                      1.9.0\n",
      "multidict                6.4.3\n",
      "mypy-extensions          1.0.0\n",
      "nest-asyncio             1.6.0\n",
      "numpy                    2.2.4\n",
      "openai                   1.72.0\n",
      "orjson                   3.10.16\n",
      "ormsgpack                1.9.1\n",
      "packaging                24.2\n",
      "pandas                   2.2.3\n",
      "pandasql                 0.7.3\n",
      "parso                    0.8.4\n",
      "pexpect                  4.9.0\n",
      "pip                      24.3.1\n",
      "platformdirs             4.3.7\n",
      "primp                    0.14.0\n",
      "prompt_toolkit           3.0.50\n",
      "propcache                0.3.1\n",
      "psutil                   7.0.0\n",
      "ptyprocess               0.7.0\n",
      "pure_eval                0.2.3\n",
      "pydantic                 2.11.3\n",
      "pydantic_core            2.33.1\n",
      "pydantic-settings        2.8.1\n",
      "Pygments                 2.19.1\n",
      "python-dateutil          2.9.0.post0\n",
      "python-dotenv            1.1.0\n",
      "python-multipart         0.0.20\n",
      "pytz                     2025.2\n",
      "PyYAML                   6.0.2\n",
      "pyzmq                    26.4.0\n",
      "regex                    2024.11.6\n",
      "requests                 2.32.3\n",
      "requests-toolbelt        1.0.0\n",
      "six                      1.17.0\n",
      "sniffio                  1.3.1\n",
      "soupsieve                2.6\n",
      "SQLAlchemy               2.0.40\n",
      "sse-starlette            2.3.5\n",
      "stack-data               0.6.3\n",
      "starlette                0.46.2\n",
      "tenacity                 9.1.2\n",
      "tiktoken                 0.9.0\n",
      "tornado                  6.4.2\n",
      "tqdm                     4.67.1\n",
      "traitlets                5.14.3\n",
      "typing_extensions        4.13.2\n",
      "typing-inspect           0.9.0\n",
      "typing-inspection        0.4.0\n",
      "tzdata                   2025.2\n",
      "urllib3                  2.4.0\n",
      "uvicorn                  0.34.2\n",
      "wcwidth                  0.2.13\n",
      "xxhash                   3.5.0\n",
      "yarl                     1.19.0\n",
      "zstandard                0.23.0\n"
     ]
    }
   ],
   "source": [
    "!pip list"
   ]
  },
  {
   "cell_type": "code",
   "execution_count": null,
   "metadata": {},
   "outputs": [],
   "source": []
  },
  {
   "cell_type": "markdown",
   "metadata": {},
   "source": [
    "# model"
   ]
  },
  {
   "cell_type": "code",
   "execution_count": 2,
   "metadata": {},
   "outputs": [
    {
     "data": {
      "text/plain": [
       "True"
      ]
     },
     "execution_count": 2,
     "metadata": {},
     "output_type": "execute_result"
    }
   ],
   "source": [
    "# import environment variables\n",
    "from dotenv import load_dotenv\n",
    "import os\n",
    "\n",
    "load_dotenv(override=True)"
   ]
  },
  {
   "cell_type": "code",
   "execution_count": 6,
   "metadata": {},
   "outputs": [],
   "source": [
    "ZHIPU_API_KEY = os.getenv(\"ZHIPU_API_KEY\")\n",
    "# print(ZHIPU_API_KEY)"
   ]
  },
  {
   "cell_type": "code",
   "execution_count": 7,
   "metadata": {},
   "outputs": [],
   "source": [
    "from langchain_openai import ChatOpenAI\n",
    "\n",
    "model = ChatOpenAI(\n",
    "    model=\"glm-4-flash\",\n",
    "    openai_api_base=\"https://open.bigmodel.cn/api/paas/v4/\",\n",
    "    openai_api_key=ZHIPU_API_KEY,\n",
    "    temperature=0.1,\n",
    ")"
   ]
  },
  {
   "cell_type": "code",
   "execution_count": 8,
   "metadata": {},
   "outputs": [
    {
     "data": {
      "text/plain": [
       "AIMessage(content='你好！很高兴见到你，有什么可以帮助你的吗？', additional_kwargs={'refusal': None}, response_metadata={'token_usage': {'completion_tokens': 13, 'prompt_tokens': 9, 'total_tokens': 22, 'completion_tokens_details': None, 'prompt_tokens_details': None}, 'model_name': 'glm-4-flash', 'system_fingerprint': None, 'id': '2025080309054113a139ae57ea42ea', 'finish_reason': 'stop', 'logprobs': None}, id='run-6ef69b90-f34e-43d4-ba7b-1fccfdb73baf-0', usage_metadata={'input_tokens': 9, 'output_tokens': 13, 'total_tokens': 22, 'input_token_details': {}, 'output_token_details': {}})"
      ]
     },
     "execution_count": 8,
     "metadata": {},
     "output_type": "execute_result"
    }
   ],
   "source": [
    "model.invoke(\"你好，世界！\")"
   ]
  },
  {
   "cell_type": "code",
   "execution_count": null,
   "metadata": {},
   "outputs": [],
   "source": []
  },
  {
   "cell_type": "code",
   "execution_count": null,
   "metadata": {},
   "outputs": [],
   "source": []
  },
  {
   "cell_type": "markdown",
   "metadata": {},
   "source": [
    "# tools"
   ]
  },
  {
   "cell_type": "markdown",
   "metadata": {},
   "source": [
    "## search\n"
   ]
  },
  {
   "cell_type": "code",
   "execution_count": 9,
   "metadata": {},
   "outputs": [
    {
     "name": "stdout",
     "output_type": "stream",
     "text": [
      "              name  age sex\n",
      "0      Henry Myers   60   F\n",
      "1      Kelsey Lutz   54   M\n",
      "2   Jonathan Young   76   F\n",
      "3  Kimberly Macias   69   M\n"
     ]
    }
   ],
   "source": [
    "from langchain_community.tools import DuckDuckGoSearchRun\n",
    "import pandas as pd\n",
    "from pandasql import sqldf\n",
    "\n",
    "\n",
    "def simulate_database_operation(sql):\n",
    "    my_table = pd.DataFrame(\n",
    "        {\n",
    "            \"name\": [\n",
    "                \"Henry Myers\",\n",
    "                \"Martha Hawkins\",\n",
    "                \"Kelsey Lutz\",\n",
    "                \"Jonathan Fowler\",\n",
    "                \"Jonathan Young\",\n",
    "                \"Autumn Johnson\",\n",
    "                \"Kimberly Macias\",\n",
    "                \"Jared Mccormick\",\n",
    "                \"Casey Hoover\",\n",
    "                \"Erica Morse\",\n",
    "            ],\n",
    "            \"age\": [60, 44, 54, 46, 76, 22, 69, 33, 23, 35],\n",
    "            \"sex\": [\"F\", \"M\", \"M\", \"F\", \"F\", \"M\", \"M\", \"F\", \"F\", \"M\"],\n",
    "        }\n",
    "    )\n",
    "    result = sqldf(sql)\n",
    "    return result\n",
    "\n",
    "\n",
    "print(simulate_database_operation(\"SELECT * FROM my_table WHERE age > 50\"))"
   ]
  },
  {
   "cell_type": "code",
   "execution_count": 10,
   "metadata": {},
   "outputs": [],
   "source": [
    "# from langchain_community.tools import DuckDuckGoSearchResults\n",
    "\n",
    "# DuckDuckGoSearchResults().invoke(\"Obama\")"
   ]
  },
  {
   "cell_type": "code",
   "execution_count": 11,
   "metadata": {},
   "outputs": [],
   "source": [
    "from langchain.tools import tool\n",
    "\n",
    "\n",
    "@tool\n",
    "def simulate_database_operation(sql: str):\n",
    "    \"\"\"根据sql语句操作数据库\"\"\"\n",
    "    my_table = pd.DataFrame(\n",
    "        {\n",
    "            \"name\": [\n",
    "                \"Henry Myers\",\n",
    "                \"Martha Hawkins\",\n",
    "                \"Kelsey Lutz\",\n",
    "                \"Jonathan Fowler\",\n",
    "                \"Jonathan Young\",\n",
    "                \"Autumn Johnson\",\n",
    "                \"Kimberly Macias\",\n",
    "                \"Jared Mccormick\",\n",
    "                \"Casey Hoover\",\n",
    "                \"Erica Morse\",\n",
    "            ],\n",
    "            \"age\": [60, 44, 54, 46, 76, 22, 69, 33, 23, 35],\n",
    "            \"sex\": [\"F\", \"M\", \"M\", \"F\", \"F\", \"M\", \"M\", \"F\", \"F\", \"M\"],\n",
    "        }\n",
    "    )\n",
    "    result = sqldf(sql)\n",
    "    return result"
   ]
  },
  {
   "cell_type": "code",
   "execution_count": null,
   "metadata": {},
   "outputs": [],
   "source": []
  },
  {
   "cell_type": "markdown",
   "metadata": {},
   "source": [
    "## bind tools"
   ]
  },
  {
   "cell_type": "code",
   "execution_count": 12,
   "metadata": {},
   "outputs": [],
   "source": [
    "tools = [DuckDuckGoSearchRun(), simulate_database_operation]\n",
    "model_with_tools = model.bind_tools(tools)"
   ]
  },
  {
   "cell_type": "code",
   "execution_count": 13,
   "metadata": {},
   "outputs": [
    {
     "name": "stdout",
     "output_type": "stream",
     "text": [
      "{'additional_kwargs': {'refusal': None},\n",
      " 'content': '印度的首都是新德里（New '\n",
      "            'Delhi）。它是印度联邦的首都，也是德里联邦属地的首府。新德里不仅是印度的政治中心，也是重要的文化和商业中心。',\n",
      " 'example': False,\n",
      " 'id': 'run-5f7e44d0-bdbf-4570-9050-174f53026c04-0',\n",
      " 'invalid_tool_calls': [],\n",
      " 'name': None,\n",
      " 'response_metadata': {'finish_reason': 'stop',\n",
      "                       'id': '2025080309060136ee713ee0f046c6',\n",
      "                       'logprobs': None,\n",
      "                       'model_name': 'glm-4-flash',\n",
      "                       'system_fingerprint': None,\n",
      "                       'token_usage': {'completion_tokens': 38,\n",
      "                                       'completion_tokens_details': None,\n",
      "                                       'prompt_tokens': 275,\n",
      "                                       'prompt_tokens_details': None,\n",
      "                                       'total_tokens': 313}},\n",
      " 'tool_calls': [],\n",
      " 'type': 'ai',\n",
      " 'usage_metadata': {'input_token_details': {},\n",
      "                    'input_tokens': 275,\n",
      "                    'output_token_details': {},\n",
      "                    'output_tokens': 38,\n",
      "                    'total_tokens': 313}}\n"
     ]
    }
   ],
   "source": [
    "from pprint import pprint as pp\n",
    "\n",
    "response = model_with_tools.invoke(\"印度的首都是哪里？\")\n",
    "pp(dict(response))"
   ]
  },
  {
   "cell_type": "code",
   "execution_count": 14,
   "metadata": {},
   "outputs": [
    {
     "name": "stdout",
     "output_type": "stream",
     "text": [
      "{'additional_kwargs': {'refusal': None,\n",
      "                       'tool_calls': [{'function': {'arguments': '{\"query\": '\n",
      "                                                                 '\"北京时间现在几点\"}',\n",
      "                                                    'name': 'duckduckgo_search'},\n",
      "                                       'id': 'call_-8469608470223164119',\n",
      "                                       'index': 0,\n",
      "                                       'type': 'function'}]},\n",
      " 'content': '',\n",
      " 'example': False,\n",
      " 'id': 'run-80bb7ab4-cb4b-4adc-b628-741c70e22788-0',\n",
      " 'invalid_tool_calls': [],\n",
      " 'name': None,\n",
      " 'response_metadata': {'finish_reason': 'tool_calls',\n",
      "                       'id': '20250803090604e291a3f6cab24de9',\n",
      "                       'logprobs': None,\n",
      "                       'model_name': 'glm-4-flash',\n",
      "                       'system_fingerprint': None,\n",
      "                       'token_usage': {'completion_tokens': 14,\n",
      "                                       'completion_tokens_details': None,\n",
      "                                       'prompt_tokens': 277,\n",
      "                                       'prompt_tokens_details': None,\n",
      "                                       'total_tokens': 291}},\n",
      " 'tool_calls': [{'args': {'query': '北京时间现在几点'},\n",
      "                 'id': 'call_-8469608470223164119',\n",
      "                 'name': 'duckduckgo_search',\n",
      "                 'type': 'tool_call'}],\n",
      " 'type': 'ai',\n",
      " 'usage_metadata': {'input_token_details': {},\n",
      "                    'input_tokens': 277,\n",
      "                    'output_token_details': {},\n",
      "                    'output_tokens': 14,\n",
      "                    'total_tokens': 291}}\n"
     ]
    }
   ],
   "source": [
    "fetch_response = model_with_tools.invoke(\"现在是北京时间几点？查询之后告诉我\")\n",
    "pp(dict(fetch_response))"
   ]
  },
  {
   "cell_type": "code",
   "execution_count": 15,
   "metadata": {},
   "outputs": [
    {
     "name": "stdout",
     "output_type": "stream",
     "text": [
      "{'additional_kwargs': {'refusal': None,\n",
      "                       'tool_calls': [{'function': {'arguments': '{\"sql\": '\n",
      "                                                                 '\"INSERT INTO '\n",
      "                                                                 'my_table '\n",
      "                                                                 '(name, age, '\n",
      "                                                                 'sex) VALUES '\n",
      "                                                                 \"('张三', 18, \"\n",
      "                                                                 '\\'male\\')\"}',\n",
      "                                                    'name': 'simulate_database_operation'},\n",
      "                                       'id': 'call_-8469591599590544629',\n",
      "                                       'index': 0,\n",
      "                                       'type': 'function'}]},\n",
      " 'content': '',\n",
      " 'example': False,\n",
      " 'id': 'run-cb153811-8136-4419-b5b6-798bcccf23bb-0',\n",
      " 'invalid_tool_calls': [],\n",
      " 'name': None,\n",
      " 'response_metadata': {'finish_reason': 'tool_calls',\n",
      "                       'id': '202508030906057dc6eb8c171a4fa7',\n",
      "                       'logprobs': None,\n",
      "                       'model_name': 'glm-4-flash',\n",
      "                       'system_fingerprint': None,\n",
      "                       'token_usage': {'completion_tokens': 32,\n",
      "                                       'completion_tokens_details': None,\n",
      "                                       'prompt_tokens': 293,\n",
      "                                       'prompt_tokens_details': None,\n",
      "                                       'total_tokens': 325}},\n",
      " 'tool_calls': [{'args': {'sql': 'INSERT INTO my_table (name, age, sex) VALUES '\n",
      "                                 \"('张三', 18, 'male')\"},\n",
      "                 'id': 'call_-8469591599590544629',\n",
      "                 'name': 'simulate_database_operation',\n",
      "                 'type': 'tool_call'}],\n",
      " 'type': 'ai',\n",
      " 'usage_metadata': {'input_token_details': {},\n",
      "                    'input_tokens': 293,\n",
      "                    'output_token_details': {},\n",
      "                    'output_tokens': 32,\n",
      "                    'total_tokens': 325}}\n"
     ]
    }
   ],
   "source": [
    "db_response = model_with_tools.invoke(\n",
    "    \"帮我往数据库的my_table表中插入一条数据，name是张三，age是18，sex是male\"\n",
    ")\n",
    "pp(dict(db_response))"
   ]
  },
  {
   "cell_type": "code",
   "execution_count": null,
   "metadata": {},
   "outputs": [],
   "source": []
  },
  {
   "cell_type": "markdown",
   "metadata": {},
   "source": [
    "# agent"
   ]
  },
  {
   "cell_type": "markdown",
   "metadata": {},
   "source": [
    "# manual agent"
   ]
  },
  {
   "cell_type": "code",
   "execution_count": 16,
   "metadata": {},
   "outputs": [],
   "source": [
    "from icecream import ic\n",
    "\n",
    "\n",
    "def manual_agent(query: str, model: ChatOpenAI, tools: list[tool]):\n",
    "    model_with_tools = model.bind_tools(tools)\n",
    "    model_output = model_with_tools.invoke(query)\n",
    "    tool_response = call_tool(model_output, tools)\n",
    "    final_response = model.invoke(\n",
    "        f\"original query: {query} \\n\\n\\n tool response: {tool_response}\",\n",
    "    )\n",
    "    return final_response\n",
    "\n",
    "\n",
    "def call_tool(model_output, tools):\n",
    "    tools_map = {tool.name.lower(): tool for tool in tools}\n",
    "    tools_response = {}\n",
    "    for tool in model_output.tool_calls:\n",
    "        tool_name = tool[\"name\"]\n",
    "        tool_args = tool[\"args\"]\n",
    "        tool_instance = tools_map[tool_name]\n",
    "        tool_response = tool_instance.invoke(*tool_args.values())\n",
    "        tools_response[tool_name] = tool_response\n",
    "    return tools_response"
   ]
  },
  {
   "cell_type": "code",
   "execution_count": 17,
   "metadata": {},
   "outputs": [
    {
     "data": {
      "text/plain": [
       "'根据您提供的查询结果，数据库`my_table`表中年龄大于60岁的人数是2人。这是通过执行`COUNT(*)`查询得出的结果，其中`COUNT(*)`统计了所有符合条件的记录数。'"
      ]
     },
     "execution_count": 17,
     "metadata": {},
     "output_type": "execute_result"
    }
   ],
   "source": [
    "manual_agent('帮我查询数据库my_table表中有多少人年龄大于60', model, tools).content\n"
   ]
  },
  {
   "cell_type": "code",
   "execution_count": 18,
   "metadata": {},
   "outputs": [
    {
     "data": {
      "text/plain": [
       "AIMessage(content='根据您提供的查询结果，数据库`my_table`表中年龄大于60岁的人数是2人。这个结果是通过执行`COUNT(*)`查询得到的，它计算了所有符合条件的记录数。这里的`COUNT(*)`是对所有行进行计数，没有指定具体的列，所以它统计的是表中的所有记录数。如果查询条件是针对年龄列，并且年龄大于60岁，那么结果就是2人。', additional_kwargs={'refusal': None}, response_metadata={'token_usage': {'completion_tokens': 88, 'prompt_tokens': 40, 'total_tokens': 128, 'completion_tokens_details': None, 'prompt_tokens_details': None}, 'model_name': 'glm-4-flash', 'system_fingerprint': None, 'id': '20250803090609dfa66254f7464e5a', 'finish_reason': 'stop', 'logprobs': None}, id='run-c3ccb6f8-747a-4dcd-b50d-eca385f6f5b6-0', usage_metadata={'input_tokens': 40, 'output_tokens': 88, 'total_tokens': 128, 'input_token_details': {}, 'output_token_details': {}})"
      ]
     },
     "execution_count": 18,
     "metadata": {},
     "output_type": "execute_result"
    }
   ],
   "source": [
    "manual_agent('帮我查询数据库my_table表中有多少人年龄大于60', model, tools)"
   ]
  },
  {
   "cell_type": "code",
   "execution_count": null,
   "metadata": {},
   "outputs": [],
   "source": []
  },
  {
   "cell_type": "code",
   "execution_count": null,
   "metadata": {},
   "outputs": [],
   "source": []
  },
  {
   "cell_type": "markdown",
   "metadata": {},
   "source": [
    "## langchain agent"
   ]
  },
  {
   "cell_type": "code",
   "execution_count": 19,
   "metadata": {},
   "outputs": [],
   "source": [
    "from langgraph.prebuilt import create_react_agent\n",
    "\n",
    "agent = create_react_agent(model, tools)"
   ]
  },
  {
   "cell_type": "code",
   "execution_count": null,
   "metadata": {},
   "outputs": [],
   "source": [
    "from langchain_core.messages import HumanMessage\n",
    "from pprint import pprint as pp\n",
    "\n",
    "response = agent.invoke({'messages': [HumanMessage(content=\"今天在北京的天气怎么样\")]})\n",
    "pp(response)\n",
    "\n"
   ]
  },
  {
   "cell_type": "code",
   "execution_count": null,
   "metadata": {},
   "outputs": [
    {
     "name": "stdout",
     "output_type": "stream",
     "text": [
      "{'messages': [HumanMessage(content='帮我往数据库的my_table表中插入一条数据，name是张三，age是18，sex是male', additional_kwargs={}, response_metadata={}, id='253a60c9-2072-4be4-a970-950f60d5eb90'),\n",
      "              AIMessage(content='', additional_kwargs={'tool_calls': [{'id': 'call_-8724732036181998182', 'function': {'arguments': '{\"sql\": \"INSERT INTO my_table (name, age, sex) VALUES (\\'张三\\', 18, \\'male\\')\"}', 'name': 'simulate_database_operation'}, 'type': 'function', 'index': 0}], 'refusal': None}, response_metadata={'token_usage': {'completion_tokens': 32, 'prompt_tokens': 293, 'total_tokens': 325, 'completion_tokens_details': None, 'prompt_tokens_details': None}, 'model_name': 'glm-4-flash', 'system_fingerprint': None, 'id': '20250517115207f9175582c4774491', 'finish_reason': 'tool_calls', 'logprobs': None}, id='run-f6783394-31e0-4fcb-bbdc-2afd2a520321-0', tool_calls=[{'name': 'simulate_database_operation', 'args': {'sql': \"INSERT INTO my_table (name, age, sex) VALUES ('张三', 18, 'male')\"}, 'id': 'call_-8724732036181998182', 'type': 'tool_call'}], usage_metadata={'input_tokens': 293, 'output_tokens': 32, 'total_tokens': 325, 'input_token_details': {}, 'output_token_details': {}}),\n",
      "              ToolMessage(content=\"Error: PandaSQLException(OperationalError('(sqlite3.OperationalError) no such table: my_table'))\\n Please fix your mistakes.\", name='simulate_database_operation', id='df72e09c-6895-4dcf-842c-43bc388ab155', tool_call_id='call_-8724732036181998182', status='error'),\n",
      "              AIMessage(content='抱歉，我犯了一个错误。由于my_table表不存在，我无法向其中插入数据。请先确保my_table表已经创建，然后再尝试插入数据。如果您需要帮助创建表，请告诉我。', additional_kwargs={'refusal': None}, response_metadata={'token_usage': {'completion_tokens': 45, 'prompt_tokens': 361, 'total_tokens': 406, 'completion_tokens_details': None, 'prompt_tokens_details': None}, 'model_name': 'glm-4-flash', 'system_fingerprint': None, 'id': '20250517115208b570a4029ec44162', 'finish_reason': 'stop', 'logprobs': None}, id='run-21bd9f85-bdf9-4e95-bc11-fc53d07053a7-0', usage_metadata={'input_tokens': 361, 'output_tokens': 45, 'total_tokens': 406, 'input_token_details': {}, 'output_token_details': {}})]}\n"
     ]
    }
   ],
   "source": [
    "response = agent.invoke({'messages': [HumanMessage(content=\"帮我往数据库的my_table表中插入一条数据，name是张三，age是18，sex是male\")]})\n",
    "pp(response)\n",
    "\n",
    "\n"
   ]
  },
  {
   "cell_type": "code",
   "execution_count": null,
   "metadata": {},
   "outputs": [],
   "source": []
  },
  {
   "cell_type": "code",
   "execution_count": null,
   "metadata": {},
   "outputs": [],
   "source": []
  },
  {
   "cell_type": "code",
   "execution_count": null,
   "metadata": {},
   "outputs": [],
   "source": []
  },
  {
   "cell_type": "code",
   "execution_count": null,
   "metadata": {},
   "outputs": [],
   "source": []
  },
  {
   "cell_type": "code",
   "execution_count": null,
   "metadata": {},
   "outputs": [],
   "source": []
  },
  {
   "cell_type": "code",
   "execution_count": null,
   "metadata": {},
   "outputs": [],
   "source": []
  },
  {
   "cell_type": "code",
   "execution_count": null,
   "metadata": {},
   "outputs": [],
   "source": []
  }
 ],
 "metadata": {
  "kernelspec": {
   "display_name": "venv12",
   "language": "python",
   "name": "python3"
  },
  "language_info": {
   "codemirror_mode": {
    "name": "ipython",
    "version": 3
   },
   "file_extension": ".py",
   "mimetype": "text/x-python",
   "name": "python",
   "nbconvert_exporter": "python",
   "pygments_lexer": "ipython3",
   "version": "3.12.9"
  }
 },
 "nbformat": 4,
 "nbformat_minor": 2
}
